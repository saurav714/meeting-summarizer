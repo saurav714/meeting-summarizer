{
 "cells": [
  {
   "cell_type": "markdown",
   "id": "080be387",
   "metadata": {},
   "source": [
    "# 🎙️ AI Meeting Summarizer + Diarizer (Colab Notebook)"
   ]
  },
  {
   "cell_type": "code",
   "execution_count": null,
   "id": "231585f6",
   "metadata": {},
   "outputs": [],
   "source": [
    "!pip install -q git+https://github.com/openai/whisper.git\n",
    "!pip install -q pyannote.audio transformers librosa --upgrade\n",
    "\n",
    "import whisper\n",
    "import torch\n",
    "from transformers import pipeline\n",
    "import os\n",
    "\n",
    "# ⚠️ REQUIRED: Hugging Face token for diarization\n",
    "HUGGINGFACE_TOKEN = \"hf_XXXXXXXXXXXXXXXXXXXX\"\n"
   ]
  },
  {
   "cell_type": "code",
   "execution_count": null,
   "id": "0165df35",
   "metadata": {},
   "outputs": [],
   "source": [
    "# ⬆️ Upload Audio\n",
    "from google.colab import files\n",
    "uploaded = files.upload()\n",
    "\n",
    "audio_path = list(uploaded.keys())[0]\n"
   ]
  },
  {
   "cell_type": "code",
   "execution_count": null,
   "id": "e19ab8ee",
   "metadata": {},
   "outputs": [],
   "source": [
    "# 🔊 Whisper Transcription\n",
    "print(\"Loading Whisper large model...\")\n",
    "model = whisper.load_model(\"large\")\n",
    "\n",
    "print(\"Transcribing...\")\n",
    "result = model.transcribe(audio_path)\n",
    "transcript = result[\"text\"]\n",
    "\n",
    "with open(\"transcript.txt\", \"w\") as f:\n",
    "    f.write(transcript)\n"
   ]
  },
  {
   "cell_type": "code",
   "execution_count": null,
   "id": "a7b4049b",
   "metadata": {},
   "outputs": [],
   "source": [
    "# 👥 Speaker Diarization\n",
    "from pyannote.audio import Pipeline\n",
    "\n",
    "print(\"Loading diarization pipeline...\")\n",
    "pipeline = Pipeline.from_pretrained(\n",
    "    \"pyannote/speaker-diarization\", use_auth_token=HUGGINGFACE_TOKEN\n",
    ")\n",
    "\n",
    "print(\"Running diarization...\")\n",
    "diarization = pipeline(audio_path)\n",
    "\n",
    "# ⬇️ Format diarization\n",
    "segments = []\n",
    "for turn, _, speaker in diarization.itertracks(yield_label=True):\n",
    "    segments.append(f\"[{speaker}] {turn.start:.1f}s - {turn.end:.1f}s\")\n",
    "\n",
    "with open(\"diarization.txt\", \"w\") as f:\n",
    "    f.write(\"\\n\".join(segments))\n"
   ]
  },
  {
   "cell_type": "code",
   "execution_count": null,
   "id": "2461e9cf",
   "metadata": {},
   "outputs": [],
   "source": [
    "# ✂️ Summarization (Pegasus)\n",
    "print(\"Summarizing with Pegasus...\")\n",
    "summarizer = pipeline(\"summarization\", model=\"google/pegasus-xsum\")\n",
    "summary = summarizer(transcript, max_length=120, min_length=30, do_sample=False)[0][\"summary_text\"]\n",
    "\n",
    "with open(\"summary.txt\", \"w\") as f:\n",
    "    f.write(summary)\n"
   ]
  },
  {
   "cell_type": "code",
   "execution_count": null,
   "id": "2e5825c7",
   "metadata": {},
   "outputs": [],
   "source": [
    "# 📁 Download files\n",
    "files.download(\"transcript.txt\")\n",
    "files.download(\"diarization.txt\")\n",
    "files.download(\"summary.txt\")\n"
   ]
  }
 ],
 "metadata": {},
 "nbformat": 4,
 "nbformat_minor": 5
}
